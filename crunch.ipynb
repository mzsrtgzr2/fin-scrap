{
 "cells": [
  {
   "cell_type": "code",
   "execution_count": 2,
   "metadata": {},
   "outputs": [],
   "source": [
    "from pyspark.sql import SparkSession\n",
    "import pyspark.sql.functions as F\n"
   ]
  },
  {
   "cell_type": "code",
   "execution_count": 3,
   "metadata": {},
   "outputs": [
    {
     "name": "stderr",
     "output_type": "stream",
     "text": [
      "WARNING: An illegal reflective access operation has occurred\n",
      "WARNING: Illegal reflective access by org.apache.spark.unsafe.Platform (file:/usr/local/Caskroom/miniconda/base/envs/personal/lib/python3.7/site-packages/pyspark/jars/spark-unsafe_2.12-3.1.2.jar) to constructor java.nio.DirectByteBuffer(long,int)\n",
      "WARNING: Please consider reporting this to the maintainers of org.apache.spark.unsafe.Platform\n",
      "WARNING: Use --illegal-access=warn to enable warnings of further illegal reflective access operations\n",
      "WARNING: All illegal access operations will be denied in a future release\n",
      "21/11/14 22:49:21 WARN NativeCodeLoader: Unable to load native-hadoop library for your platform... using builtin-java classes where applicable\n",
      "Using Spark's default log4j profile: org/apache/spark/log4j-defaults.properties\n",
      "Setting default log level to \"WARN\".\n",
      "To adjust logging level use sc.setLogLevel(newLevel). For SparkR, use setLogLevel(newLevel).\n"
     ]
    }
   ],
   "source": [
    "spark = SparkSession.builder.appName('trades-crunch').getOrCreate()"
   ]
  },
  {
   "cell_type": "code",
   "execution_count": 5,
   "metadata": {},
   "outputs": [],
   "source": [
    "trades = spark.read.option('header', 'true').csv(\n",
    "    './airflow/data/raw/trades/year=2020/month=04/day=10/*.csv'\n",
    ").withColumn('symbol', F.split(F.input_file_name(), '__').getItem(2))\\\n",
    "    .withColumn('date', F.to_date(\n",
    "        F.split(\n",
    "            F.split(F.input_file_name(), '__').getItem(3),\n",
    "            '\\.').getItem(0)\n",
    "    ))"
   ]
  },
  {
   "cell_type": "code",
   "execution_count": 6,
   "metadata": {},
   "outputs": [
    {
     "name": "stderr",
     "output_type": "stream",
     "text": []
    },
    {
     "name": "stdout",
     "output_type": "stream",
     "text": [
      "+------------------------+\n",
      "|avg(CAST(qty AS DOUBLE))|\n",
      "+------------------------+\n",
      "|      1693.3061446781935|\n",
      "+------------------------+\n",
      "\n"
     ]
    },
    {
     "name": "stderr",
     "output_type": "stream",
     "text": []
    }
   ],
   "source": [
    "trades.selectExpr('avg(qty)').show()"
   ]
  },
  {
   "cell_type": "code",
   "execution_count": 7,
   "metadata": {},
   "outputs": [
    {
     "name": "stdout",
     "output_type": "stream",
     "text": [
      "+---+----------+------------+----------+-------------+------------+-----------+------+----------+\n",
      "| id|     price|         qty|  quoteQty|         time|isBuyerMaker|isBestMatch|symbol|      date|\n",
      "+---+----------+------------+----------+-------------+------------+-----------+------+----------+\n",
      "|  0|0.00002989|  4.00000000|0.00011956|1586491200000|       False|       True|SOLBTC|2020-04-10|\n",
      "|  1|0.00011899| 30.00000000|0.00356970|1586491200424|       False|       True|SOLBTC|2020-04-10|\n",
      "|  2|0.00011899|130.00000000|0.01546870|1586491200591|       False|       True|SOLBTC|2020-04-10|\n",
      "|  3|0.00011899| 20.00000000|0.00237980|1586491200895|       False|       True|SOLBTC|2020-04-10|\n",
      "|  4|0.00011423| 62.00000000|0.00708226|1586491201343|        True|       True|SOLBTC|2020-04-10|\n",
      "+---+----------+------------+----------+-------------+------------+-----------+------+----------+\n",
      "only showing top 5 rows\n",
      "\n"
     ]
    }
   ],
   "source": [
    "trades.show(5)"
   ]
  },
  {
   "cell_type": "code",
   "execution_count": 12,
   "metadata": {},
   "outputs": [
    {
     "name": "stderr",
     "output_type": "stream",
     "text": [
      "21/11/14 22:50:55 WARN WindowExec: No Partition Defined for Window operation! Moving all data to a single partition, this can cause serious performance degradation.\n"
     ]
    },
    {
     "name": "stdout",
     "output_type": "stream",
     "text": [
      "+--------------+------------------+\n",
      "|           qty|            ma_qty|\n",
      "+--------------+------------------+\n",
      "| 1568.00000000|            1568.0|\n",
      "| 4906.00000000|            3237.0|\n",
      "|16003.00000000| 7492.333333333333|\n",
      "|16002.00000000|           9619.75|\n",
      "|16003.00000000|           10896.4|\n",
      "|15989.00000000|11745.166666666666|\n",
      "|15994.00000000|12352.142857142857|\n",
      "|16097.00000000|          12820.25|\n",
      "|15996.00000000|13173.111111111111|\n",
      "|16002.00000000|           13456.0|\n",
      "|16103.00000000|13696.636363636364|\n",
      "|15990.00000000|          13887.75|\n",
      "|16000.00000000|15090.416666666666|\n",
      "|15993.00000000|15159.846153846154|\n",
      "|15993.00000000|15219.357142857143|\n",
      "|15995.00000000|15271.066666666668|\n",
      "|16001.00000000|        15316.6875|\n",
      "|15996.00000000| 15356.64705882353|\n",
      "|15993.00000000|           15392.0|\n",
      "|15990.00000000|15423.473684210527|\n",
      "|15690.00000000|           15436.8|\n",
      "| 8865.00000000|          15634.75|\n",
      "|  498.00000000|             498.0|\n",
      "|  379.00000000|             438.5|\n",
      "|  455.00000000|             444.0|\n",
      "+--------------+------------------+\n",
      "only showing top 25 rows\n",
      "\n"
     ]
    }
   ],
   "source": [
    "from pyspark.sql.window import Window\n",
    "minutes = lambda m: m*60*1000\n",
    "\n",
    "w = (Window.orderBy(F.col(\"time\").cast('long')).rangeBetween(-minutes(5), 0))\n",
    "trades_2 = trades.withColumn('ma_qty', F.avg('qty').over(w))\n",
    "\n",
    "trades_2.select('qty', 'ma_qty').show(25)"
   ]
  },
  {
   "cell_type": "code",
   "execution_count": null,
   "metadata": {},
   "outputs": [],
   "source": []
  }
 ],
 "metadata": {
  "interpreter": {
   "hash": "a27c9f2c5f0318bf29c3c04b8e213f35e3a5c52524760be1d78ad640459f30c1"
  },
  "kernelspec": {
   "display_name": "Python 3.7.11 64-bit ('personal': conda)",
   "name": "python3"
  },
  "language_info": {
   "codemirror_mode": {
    "name": "ipython",
    "version": 3
   },
   "file_extension": ".py",
   "mimetype": "text/x-python",
   "name": "python",
   "nbconvert_exporter": "python",
   "pygments_lexer": "ipython3",
   "version": "3.7.11"
  },
  "orig_nbformat": 4
 },
 "nbformat": 4,
 "nbformat_minor": 2
}
